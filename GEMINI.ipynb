{
 "cells": [
  {
   "cell_type": "code",
   "execution_count": 1,
   "id": "83c5e609",
   "metadata": {},
   "outputs": [],
   "source": [
    "#pip install google-generativeai"
   ]
  },
  {
   "cell_type": "code",
   "execution_count": 2,
   "id": "d849c422",
   "metadata": {},
   "outputs": [
    {
     "name": "stderr",
     "output_type": "stream",
     "text": [
      "c:\\Users\\saurav\\env\\Lib\\site-packages\\tqdm\\auto.py:21: TqdmWarning: IProgress not found. Please update jupyter and ipywidgets. See https://ipywidgets.readthedocs.io/en/stable/user_install.html\n",
      "  from .autonotebook import tqdm as notebook_tqdm\n"
     ]
    }
   ],
   "source": [
    "import google.generativeai as genai\n",
    "import os"
   ]
  },
  {
   "cell_type": "code",
   "execution_count": 3,
   "id": "e437c464",
   "metadata": {},
   "outputs": [],
   "source": [
    "api = os.getenv('GOOGLE_API_KEY')"
   ]
  },
  {
   "cell_type": "code",
   "execution_count": 4,
   "id": "35d79147",
   "metadata": {},
   "outputs": [],
   "source": [
    "genai.configure(api_key=api)  # Configure with your API key"
   ]
  },
  {
   "cell_type": "code",
   "execution_count": 5,
   "id": "1ef3dd3c",
   "metadata": {},
   "outputs": [
    {
     "name": "stdout",
     "output_type": "stream",
     "text": [
      "models/gemini-1.5-pro-latest\n",
      "models/gemini-1.5-pro-002\n",
      "models/gemini-1.5-pro\n",
      "models/gemini-1.5-flash-latest\n",
      "models/gemini-1.5-flash\n",
      "models/gemini-1.5-flash-002\n",
      "models/gemini-1.5-flash-8b\n",
      "models/gemini-1.5-flash-8b-001\n",
      "models/gemini-1.5-flash-8b-latest\n",
      "models/gemini-2.5-pro-preview-03-25\n",
      "models/gemini-2.5-flash-preview-05-20\n",
      "models/gemini-2.5-flash\n",
      "models/gemini-2.5-flash-lite-preview-06-17\n",
      "models/gemini-2.5-pro-preview-05-06\n",
      "models/gemini-2.5-pro-preview-06-05\n",
      "models/gemini-2.5-pro\n",
      "models/gemini-2.0-flash-exp\n",
      "models/gemini-2.0-flash\n",
      "models/gemini-2.0-flash-001\n",
      "models/gemini-2.0-flash-exp-image-generation\n",
      "models/gemini-2.0-flash-lite-001\n",
      "models/gemini-2.0-flash-lite\n",
      "models/gemini-2.0-flash-preview-image-generation\n",
      "models/gemini-2.0-flash-lite-preview-02-05\n",
      "models/gemini-2.0-flash-lite-preview\n",
      "models/gemini-2.0-pro-exp\n",
      "models/gemini-2.0-pro-exp-02-05\n",
      "models/gemini-exp-1206\n",
      "models/gemini-2.0-flash-thinking-exp-01-21\n",
      "models/gemini-2.0-flash-thinking-exp\n",
      "models/gemini-2.0-flash-thinking-exp-1219\n",
      "models/gemini-2.5-flash-preview-tts\n",
      "models/gemini-2.5-pro-preview-tts\n",
      "models/learnlm-2.0-flash-experimental\n",
      "models/gemma-3-1b-it\n",
      "models/gemma-3-4b-it\n",
      "models/gemma-3-12b-it\n",
      "models/gemma-3-27b-it\n",
      "models/gemma-3n-e4b-it\n",
      "models/gemma-3n-e2b-it\n",
      "models/gemini-2.5-flash-lite\n",
      "models/gemini-2.5-flash-image-preview\n"
     ]
    }
   ],
   "source": [
    "for m in genai.list_models():\n",
    "    if 'generateContent' in m.supported_generation_methods:\n",
    "        print(m.name)"
   ]
  },
  {
   "cell_type": "markdown",
   "id": "d1acae55",
   "metadata": {},
   "source": [
    "GENERATE A CONTENT FROM GEMINI MODEl"
   ]
  },
  {
   "cell_type": "code",
   "execution_count": null,
   "id": "1e5b96c9",
   "metadata": {},
   "outputs": [],
   "source": []
  },
  {
   "cell_type": "code",
   "execution_count": 7,
   "id": "1fab0bb9",
   "metadata": {},
   "outputs": [],
   "source": [
    "model = genai.GenerativeModel('gemini-2.5-flash-lite')"
   ]
  },
  {
   "cell_type": "code",
   "execution_count": 8,
   "id": "6829970e",
   "metadata": {},
   "outputs": [],
   "source": [
    "import google.generativeai as genai\n",
    "import os\n"
   ]
  },
  {
   "cell_type": "code",
   "execution_count": 9,
   "id": "446f3a1c",
   "metadata": {},
   "outputs": [],
   "source": [
    "api = os.getenv('GENAI_API_KEY')"
   ]
  },
  {
   "cell_type": "code",
   "execution_count": 10,
   "id": "b8ebd9b9",
   "metadata": {},
   "outputs": [],
   "source": [
    "api"
   ]
  },
  {
   "cell_type": "code",
   "execution_count": 11,
   "id": "ff7c10a3",
   "metadata": {},
   "outputs": [],
   "source": [
    "promt = '''Assume you are a sports expert.Prepare a summary on \n",
    "MS Dhoni career .Include all the key achievements and statistics.\n",
    "Generate the output in bulleted points'''"
   ]
  },
  {
   "cell_type": "code",
   "execution_count": 12,
   "id": "cd4b49fb",
   "metadata": {},
   "outputs": [],
   "source": [
    "response = model.generate_content(promt)"
   ]
  },
  {
   "cell_type": "code",
   "execution_count": 13,
   "id": "a24c77e1",
   "metadata": {},
   "outputs": [
    {
     "name": "stdout",
     "output_type": "stream",
     "text": [
      "Here's a summary of MS Dhoni's illustrious cricket career, presented as bullet points:\n",
      "\n",
      "**MS Dhoni: A Legendary Career in Cricket**\n",
      "\n",
      "*   **Captaincy Architect:** Widely regarded as one of the greatest captains in cricket history, Dhoni's leadership was instrumental in India's most significant triumphs.\n",
      "    *   **T20 World Cup Champion (2007):** Led a young, underdog Indian team to victory in the inaugural T20 World Cup.\n",
      "    *   **Cricket World Cup Champion (2011):** Captained India to their second ODI World Cup title, famously winning it on home soil after 28 years.\n",
      "    *   **Champions Trophy Champion (2013):** Secured India's triumph in the ICC Champions Trophy, making him the only captain to win all three ICC limited-overs trophies.\n",
      "    *   **Test Mace Holder:** Led India to the No. 1 ranking in the ICC Test rankings for an extended period.\n",
      "    *   **Asian Cup Champion (2010 & 2016):** Captained India to two Asia Cup victories in ODIs and T20Is.\n",
      "\n",
      "*   **Batting Prowess & Finishing Expertise:** Known for his calm demeanor, exceptional batting technique, and unparalleled finishing abilities in the death overs.\n",
      "    *   **Master of the Chase:** Celebrated for his ability to guide India to victory from challenging situations, often in the final overs.\n",
      "    *   **Explosive Hitter:** Possessed immense power-hitting capabilities, especially against spinners and in the slog overs.\n",
      "    *   **Record-Breaking Partnerships:** Involved in numerous crucial partnerships that steered India to victory.\n",
      "\n",
      "*   **Wicket-Keeping Excellence:** A world-class wicket-keeper, renowned for his quick reflexes, brilliant stumpings, and astute field placements.\n",
      "    *   **Record for Most Stumpings in ODIs:** Holds the record for the most stumpings by a wicket-keeper in ODI history (123).\n",
      "    *   **High Catching Rate:** Consistently amongst the top wicket-keepers globally for catches taken.\n",
      "\n",
      "*   **Key Statistical Achievements:**\n",
      "    *   **International Debut:** December 23, 2004 (ODI vs. Bangladesh).\n",
      "    *   **Retirement:** Announced retirement from international cricket on August 15, 2020.\n",
      "    *   **Most Matches as Captain (all formats):** Captained India in a record number of international matches across ODIs, Tests, and T20Is.\n",
      "    *   **Most ODI Wins as Captain:** Holds the record for the most ODI wins by an Indian captain.\n",
      "    *   **One of the Highest Run-Scorers for India (ODI & T20I):** A significant contributor to India's batting lineup for over a decade.\n",
      "    *   **Century of Sixes in ODIs:** One of the few players to hit over 200 sixes in ODIs.\n",
      "    *   **Exceptional Keeper-Batsman Stats:** Consistently ranked among the best all-rounders in terms of wicket-keeping and batting contributions.\n",
      "    *   **IPL Dominance:**\n",
      "        *   Captained Chennai Super Kings (CSK) to multiple Indian Premier League (IPL) titles (2010, 2011, 2018, 2021, 2023).\n",
      "        *   Holds records for most appearances as captain in IPL.\n",
      "        *   One of the highest run-scorers and most impactful finishers in IPL history.\n",
      "        *   Record holder for most catches by a wicket-keeper in IPL.\n",
      "\n",
      "*   **Impact and Legacy:**\n",
      "    *   **\"The Finisher\":** Earned the iconic nickname \"The Finisher\" for his legendary ability to seal victories.\n",
      "    *   **Inspiration to a Generation:** Inspired a generation of cricketers with his cool temperament, work ethic, and innovative captaincy.\n",
      "    *   **Global Icon:** A household name across the cricketing world, admired for his humility and sportsmanship.\n",
      "    *   **The \"Cool Captain\":** His calm and collected approach under pressure became a hallmark of his captaincy.\n",
      "    *   **Revolutionized the Role of the Wicket-Keeper:** Redefined the expectations and capabilities of a wicket-keeper-batsman.\n"
     ]
    }
   ],
   "source": [
    "print(response.text)"
   ]
  },
  {
   "cell_type": "code",
   "execution_count": 14,
   "id": "d8d45e37",
   "metadata": {},
   "outputs": [],
   "source": [
    "import os\n",
    "api = os.getenv('GENAI_API_KEY')"
   ]
  },
  {
   "cell_type": "code",
   "execution_count": null,
   "id": "1a327345",
   "metadata": {},
   "outputs": [],
   "source": []
  }
 ],
 "metadata": {
  "kernelspec": {
   "display_name": "Python 3",
   "language": "python",
   "name": "python3"
  },
  "language_info": {
   "codemirror_mode": {
    "name": "ipython",
    "version": 3
   },
   "file_extension": ".py",
   "mimetype": "text/x-python",
   "name": "python",
   "nbconvert_exporter": "python",
   "pygments_lexer": "ipython3",
   "version": "3.12.11"
  }
 },
 "nbformat": 4,
 "nbformat_minor": 5
}
